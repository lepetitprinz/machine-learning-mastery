{
 "cells": [
  {
   "cell_type": "markdown",
   "id": "74d6e2c0",
   "metadata": {},
   "source": [
    "# Part4. Bag-of-Words"
   ]
  },
  {
   "cell_type": "markdown",
   "id": "0eb8cb94",
   "metadata": {},
   "source": [
    "## Chapter8. The Bag-of-Words Model"
   ]
  },
  {
   "cell_type": "markdown",
   "id": "5e11b91a",
   "metadata": {},
   "source": [
    "### Example of the Bag-of-Words Model\n",
    "\n",
    "- Step 1: Collect Data\n",
    "- Step 2: Design the Vocabulary\n",
    "- Step 3: Create Document Vectors"
   ]
  },
  {
   "cell_type": "code",
   "execution_count": null,
   "id": "bcc80b1e",
   "metadata": {},
   "outputs": [],
   "source": []
  }
 ],
 "metadata": {
  "kernelspec": {
   "display_name": "Python 3 (ipykernel)",
   "language": "python",
   "name": "python3"
  },
  "language_info": {
   "codemirror_mode": {
    "name": "ipython",
    "version": 3
   },
   "file_extension": ".py",
   "mimetype": "text/x-python",
   "name": "python",
   "nbconvert_exporter": "python",
   "pygments_lexer": "ipython3",
   "version": "3.8.10"
  }
 },
 "nbformat": 4,
 "nbformat_minor": 5
}
