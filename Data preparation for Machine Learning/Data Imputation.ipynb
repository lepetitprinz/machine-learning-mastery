{
 "cells": [
  {
   "cell_type": "markdown",
   "source": [
    "## Data Imputation"
   ],
   "metadata": {
    "collapsed": false
   }
  },
  {
   "cell_type": "code",
   "execution_count": 15,
   "metadata": {
    "collapsed": true
   },
   "outputs": [],
   "source": [
    "import os\n",
    "import pandas as pd\n",
    "import numpy as np"
   ]
  },
  {
   "cell_type": "code",
   "execution_count": 18,
   "outputs": [],
   "source": [
    "path = os.path.join('..', 'data', 'horse-colic.csv')\n",
    "df = pd.read_csv(path, header=None, na_values='?')"
   ],
   "metadata": {
    "collapsed": false,
    "pycharm": {
     "name": "#%%\n"
    }
   }
  },
  {
   "cell_type": "code",
   "execution_count": 19,
   "outputs": [
    {
     "data": {
      "text/plain": "    0   1        2     3      4     5    6    7    8    9   ...    18    19  \\\n0  2.0   1   530101  38.5   66.0  28.0  3.0  3.0  NaN  2.0  ...  45.0   8.4   \n1  1.0   1   534817  39.2   88.0  20.0  NaN  NaN  4.0  1.0  ...  50.0  85.0   \n2  2.0   1   530334  38.3   40.0  24.0  1.0  1.0  3.0  1.0  ...  33.0   6.7   \n3  1.0   9  5290409  39.1  164.0  84.0  4.0  1.0  6.0  2.0  ...  48.0   7.2   \n4  2.0   1   530255  37.3  104.0  35.0  NaN  NaN  6.0  2.0  ...  74.0   7.4   \n\n    20   21   22  23     24  25  26  27  \n0  NaN  NaN  2.0   2  11300   0   0   2  \n1  2.0  2.0  3.0   2   2208   0   0   2  \n2  NaN  NaN  1.0   2      0   0   0   1  \n3  3.0  5.3  2.0   1   2208   0   0   1  \n4  NaN  NaN  2.0   2   4300   0   0   2  \n\n[5 rows x 28 columns]",
      "text/html": "<div>\n<style scoped>\n    .dataframe tbody tr th:only-of-type {\n        vertical-align: middle;\n    }\n\n    .dataframe tbody tr th {\n        vertical-align: top;\n    }\n\n    .dataframe thead th {\n        text-align: right;\n    }\n</style>\n<table border=\"1\" class=\"dataframe\">\n  <thead>\n    <tr style=\"text-align: right;\">\n      <th></th>\n      <th>0</th>\n      <th>1</th>\n      <th>2</th>\n      <th>3</th>\n      <th>4</th>\n      <th>5</th>\n      <th>6</th>\n      <th>7</th>\n      <th>8</th>\n      <th>9</th>\n      <th>...</th>\n      <th>18</th>\n      <th>19</th>\n      <th>20</th>\n      <th>21</th>\n      <th>22</th>\n      <th>23</th>\n      <th>24</th>\n      <th>25</th>\n      <th>26</th>\n      <th>27</th>\n    </tr>\n  </thead>\n  <tbody>\n    <tr>\n      <th>0</th>\n      <td>2.0</td>\n      <td>1</td>\n      <td>530101</td>\n      <td>38.5</td>\n      <td>66.0</td>\n      <td>28.0</td>\n      <td>3.0</td>\n      <td>3.0</td>\n      <td>NaN</td>\n      <td>2.0</td>\n      <td>...</td>\n      <td>45.0</td>\n      <td>8.4</td>\n      <td>NaN</td>\n      <td>NaN</td>\n      <td>2.0</td>\n      <td>2</td>\n      <td>11300</td>\n      <td>0</td>\n      <td>0</td>\n      <td>2</td>\n    </tr>\n    <tr>\n      <th>1</th>\n      <td>1.0</td>\n      <td>1</td>\n      <td>534817</td>\n      <td>39.2</td>\n      <td>88.0</td>\n      <td>20.0</td>\n      <td>NaN</td>\n      <td>NaN</td>\n      <td>4.0</td>\n      <td>1.0</td>\n      <td>...</td>\n      <td>50.0</td>\n      <td>85.0</td>\n      <td>2.0</td>\n      <td>2.0</td>\n      <td>3.0</td>\n      <td>2</td>\n      <td>2208</td>\n      <td>0</td>\n      <td>0</td>\n      <td>2</td>\n    </tr>\n    <tr>\n      <th>2</th>\n      <td>2.0</td>\n      <td>1</td>\n      <td>530334</td>\n      <td>38.3</td>\n      <td>40.0</td>\n      <td>24.0</td>\n      <td>1.0</td>\n      <td>1.0</td>\n      <td>3.0</td>\n      <td>1.0</td>\n      <td>...</td>\n      <td>33.0</td>\n      <td>6.7</td>\n      <td>NaN</td>\n      <td>NaN</td>\n      <td>1.0</td>\n      <td>2</td>\n      <td>0</td>\n      <td>0</td>\n      <td>0</td>\n      <td>1</td>\n    </tr>\n    <tr>\n      <th>3</th>\n      <td>1.0</td>\n      <td>9</td>\n      <td>5290409</td>\n      <td>39.1</td>\n      <td>164.0</td>\n      <td>84.0</td>\n      <td>4.0</td>\n      <td>1.0</td>\n      <td>6.0</td>\n      <td>2.0</td>\n      <td>...</td>\n      <td>48.0</td>\n      <td>7.2</td>\n      <td>3.0</td>\n      <td>5.3</td>\n      <td>2.0</td>\n      <td>1</td>\n      <td>2208</td>\n      <td>0</td>\n      <td>0</td>\n      <td>1</td>\n    </tr>\n    <tr>\n      <th>4</th>\n      <td>2.0</td>\n      <td>1</td>\n      <td>530255</td>\n      <td>37.3</td>\n      <td>104.0</td>\n      <td>35.0</td>\n      <td>NaN</td>\n      <td>NaN</td>\n      <td>6.0</td>\n      <td>2.0</td>\n      <td>...</td>\n      <td>74.0</td>\n      <td>7.4</td>\n      <td>NaN</td>\n      <td>NaN</td>\n      <td>2.0</td>\n      <td>2</td>\n      <td>4300</td>\n      <td>0</td>\n      <td>0</td>\n      <td>2</td>\n    </tr>\n  </tbody>\n</table>\n<p>5 rows × 28 columns</p>\n</div>"
     },
     "execution_count": 19,
     "metadata": {},
     "output_type": "execute_result"
    }
   ],
   "source": [
    "df.head()"
   ],
   "metadata": {
    "collapsed": false,
    "pycharm": {
     "name": "#%%\n"
    }
   }
  },
  {
   "cell_type": "code",
   "execution_count": 31,
   "outputs": [
    {
     "name": "stdout",
     "output_type": "stream",
     "text": [
      "> 0, Missing: 0    1\n",
      "dtype: int64 (0    0.33\n",
      "dtype: float64%)\n",
      "> 1, Missing: 1    0\n",
      "dtype: int64 (1    0.0\n",
      "dtype: float64%)\n",
      "> 2, Missing: 2    0\n",
      "dtype: int64 (2    0.0\n",
      "dtype: float64%)\n",
      "> 3, Missing: 3    60\n",
      "dtype: int64 (3    20.0\n",
      "dtype: float64%)\n",
      "> 4, Missing: 4    24\n",
      "dtype: int64 (4    8.0\n",
      "dtype: float64%)\n",
      "> 5, Missing: 5    58\n",
      "dtype: int64 (5    19.33\n",
      "dtype: float64%)\n",
      "> 6, Missing: 6    56\n",
      "dtype: int64 (6    18.67\n",
      "dtype: float64%)\n",
      "> 7, Missing: 7    69\n",
      "dtype: int64 (7    23.0\n",
      "dtype: float64%)\n",
      "> 8, Missing: 8    47\n",
      "dtype: int64 (8    15.67\n",
      "dtype: float64%)\n",
      "> 9, Missing: 9    32\n",
      "dtype: int64 (9    10.67\n",
      "dtype: float64%)\n",
      "> 10, Missing: 10    55\n",
      "dtype: int64 (10    18.33\n",
      "dtype: float64%)\n",
      "> 11, Missing: 11    44\n",
      "dtype: int64 (11    14.67\n",
      "dtype: float64%)\n",
      "> 12, Missing: 12    56\n",
      "dtype: int64 (12    18.67\n",
      "dtype: float64%)\n",
      "> 13, Missing: 13    104\n",
      "dtype: int64 (13    34.67\n",
      "dtype: float64%)\n",
      "> 14, Missing: 14    106\n",
      "dtype: int64 (14    35.33\n",
      "dtype: float64%)\n",
      "> 15, Missing: 15    247\n",
      "dtype: int64 (15    82.33\n",
      "dtype: float64%)\n",
      "> 16, Missing: 16    102\n",
      "dtype: int64 (16    34.0\n",
      "dtype: float64%)\n",
      "> 17, Missing: 17    118\n",
      "dtype: int64 (17    39.33\n",
      "dtype: float64%)\n",
      "> 18, Missing: 18    29\n",
      "dtype: int64 (18    9.67\n",
      "dtype: float64%)\n",
      "> 19, Missing: 19    33\n",
      "dtype: int64 (19    11.0\n",
      "dtype: float64%)\n",
      "> 20, Missing: 20    165\n",
      "dtype: int64 (20    55.0\n",
      "dtype: float64%)\n",
      "> 21, Missing: 21    198\n",
      "dtype: int64 (21    66.0\n",
      "dtype: float64%)\n",
      "> 22, Missing: 22    1\n",
      "dtype: int64 (22    0.33\n",
      "dtype: float64%)\n",
      "> 23, Missing: 23    0\n",
      "dtype: int64 (23    0.0\n",
      "dtype: float64%)\n",
      "> 24, Missing: 24    0\n",
      "dtype: int64 (24    0.0\n",
      "dtype: float64%)\n",
      "> 25, Missing: 25    0\n",
      "dtype: int64 (25    0.0\n",
      "dtype: float64%)\n",
      "> 26, Missing: 26    0\n",
      "dtype: int64 (26    0.0\n",
      "dtype: float64%)\n",
      "> 27, Missing: 27    0\n",
      "dtype: int64 (27    0.0\n",
      "dtype: float64%)\n"
     ]
    }
   ],
   "source": [
    "for i in range(df.shape[1]):\n",
    "    n_miss = df[[i]].isnull().sum()\n",
    "    percent = np.round(n_miss /  df.shape[0] * 100, 2)\n",
    "    print(f'> {i}, Missing: {n_miss} ({percent}%)')"
   ],
   "metadata": {
    "collapsed": false,
    "pycharm": {
     "name": "#%%\n"
    }
   }
  },
  {
   "cell_type": "markdown",
   "source": [
    "### 1. Statistical Imputation with SimpleImputer"
   ],
   "metadata": {
    "collapsed": false,
    "pycharm": {
     "name": "#%% md\n"
    }
   }
  },
  {
   "cell_type": "markdown",
   "source": [
    "#### SimpleImputer Data Transform"
   ],
   "metadata": {
    "collapsed": false,
    "pycharm": {
     "name": "#%% md\n"
    }
   }
  },
  {
   "cell_type": "code",
   "execution_count": 21,
   "outputs": [],
   "source": [
    "from sklearn.impute import SimpleImputer"
   ],
   "metadata": {
    "collapsed": false,
    "pycharm": {
     "name": "#%%\n"
    }
   }
  },
  {
   "cell_type": "code",
   "execution_count": 23,
   "outputs": [
    {
     "name": "stdout",
     "output_type": "stream",
     "text": [
      "Missing: 1605\n"
     ]
    }
   ],
   "source": [
    "# Split input input and output\n",
    "data = df.values\n",
    "ix = [i for i in range(data.shape[1]) if i != 23]\n",
    "\n",
    "x, y = data[:, ix], data[:, 23]\n",
    "\n",
    "# Summarize total missing\n",
    "print(f\"Missing: {sum(np.isnan(x).flatten())}\")"
   ],
   "metadata": {
    "collapsed": false,
    "pycharm": {
     "name": "#%%\n"
    }
   }
  },
  {
   "cell_type": "code",
   "execution_count": 24,
   "outputs": [
    {
     "name": "stdout",
     "output_type": "stream",
     "text": [
      "Missing: 0\n"
     ]
    }
   ],
   "source": [
    "# define imputer\n",
    "imputer = SimpleImputer(strategy='mean')\n",
    "\n",
    "# fit on the dataset\n",
    "imputer.fit(x)\n",
    "\n",
    "# transform the dataset\n",
    "x_trans = imputer.transform(x)\n",
    "\n",
    "# summarize total missing\n",
    "print(f'Missing: {sum(np.isnan(x_trans).flatten())}')"
   ],
   "metadata": {
    "collapsed": false,
    "pycharm": {
     "name": "#%%\n"
    }
   }
  },
  {
   "cell_type": "markdown",
   "source": [
    "#### SimpleImputer and Model Evaluation"
   ],
   "metadata": {
    "collapsed": false,
    "pycharm": {
     "name": "#%% md\n"
    }
   }
  },
  {
   "cell_type": "code",
   "execution_count": 26,
   "outputs": [],
   "source": [
    "from sklearn.ensemble import RandomForestClassifier\n",
    "from sklearn.model_selection import cross_val_score\n",
    "from sklearn.model_selection import RepeatedStratifiedKFold\n",
    "from sklearn.pipeline import Pipeline"
   ],
   "metadata": {
    "collapsed": false,
    "pycharm": {
     "name": "#%%\n"
    }
   }
  },
  {
   "cell_type": "code",
   "execution_count": 27,
   "outputs": [
    {
     "name": "stdout",
     "output_type": "stream",
     "text": [
      "Mean Accuracy: 0.862 (0.055)\n"
     ]
    }
   ],
   "source": [
    "# load datset\n",
    "df = pd.read_csv(path, header=None, na_values='?')\n",
    "\n",
    "# split into input and output elements\n",
    "data = df.values\n",
    "ix = [i for i in range(data.shape[1]) if i != 23]\n",
    "\n",
    "x, y = data[:, ix], data[:, 23]\n",
    "\n",
    "# define model pipeline\n",
    "model = RandomForestClassifier()\n",
    "imputer = SimpleImputer(strategy='mean')\n",
    "pipeline = Pipeline(steps=[('i', imputer), ('m', model)])\n",
    "\n",
    "# define model evaluation\n",
    "cv = RepeatedStratifiedKFold(n_splits=10, n_repeats=3, random_state=1)\n",
    "\n",
    "# evaluate model\n",
    "scores = cross_val_score(pipeline, x, y, scoring='accuracy', cv=cv, n_jobs=4)\n",
    "\n",
    "print(f'Mean Accuracy: {np.mean(scores):.3f} ({np.std(scores):.3f})')"
   ],
   "metadata": {
    "collapsed": false,
    "pycharm": {
     "name": "#%%\n"
    }
   }
  },
  {
   "cell_type": "markdown",
   "source": [
    "#### Comparing Different Imputed Statistics"
   ],
   "metadata": {
    "collapsed": false,
    "pycharm": {
     "name": "#%% md\n"
    }
   }
  },
  {
   "cell_type": "code",
   "execution_count": 28,
   "outputs": [
    {
     "name": "stdout",
     "output_type": "stream",
     "text": [
      "Mean Accuracy: 0.866 (0.058)\n",
      "Mean Accuracy: 0.873 (0.063)\n",
      "Mean Accuracy: 0.872 (0.063)\n",
      "Mean Accuracy: 0.877 (0.052)\n"
     ]
    },
    {
     "data": {
      "text/plain": "<Figure size 432x288 with 1 Axes>",
      "image/png": "[encoded data removed]"
     },
     "metadata": {
      "needs_background": "light"
     },
     "output_type": "display_data"
    }
   ],
   "source": [
    "import matplotlib.pyplot as plt\n",
    "# evaluate each strategy on the dataset\n",
    "results = []\n",
    "strategies = ['mean', 'median', 'most_frequent', 'constant']\n",
    "\n",
    "for strategy in strategies:\n",
    "    pipeline = Pipeline(steps=[('i', SimpleImputer(strategy=strategy)), ('m', RandomForestClassifier())])\n",
    "    cv = RepeatedStratifiedKFold(n_splits=10, n_repeats=3, random_state=1)\n",
    "    scores = cross_val_score(pipeline, x, y, scoring='accuracy', cv=cv, n_jobs=4)\n",
    "\n",
    "    # store results\n",
    "    results.append(scores)\n",
    "    print(f'Mean Accuracy: {np.mean(scores):.3f} ({np.std(scores):.3f})')\n",
    "\n",
    "# plot model performance for comparison\n",
    "plt.boxplot(results, labels=strategies, showmeans=True)\n",
    "plt.show()"
   ],
   "metadata": {
    "collapsed": false,
    "pycharm": {
     "name": "#%%\n"
    }
   }
  },
  {
   "cell_type": "markdown",
   "source": [
    "#### SimpleImputer Transform WHen Making a prediction"
   ],
   "metadata": {
    "collapsed": false,
    "pycharm": {
     "name": "#%% md\n"
    }
   }
  },
  {
   "cell_type": "code",
   "execution_count": 30,
   "outputs": [
    {
     "name": "stdout",
     "output_type": "stream",
     "text": [
      "Predicted Class: 2.0\n"
     ]
    }
   ],
   "source": [
    "# create the modeling pipeline\n",
    "pipeline = Pipeline(steps=[('i', SimpleImputer(strategy='constant')), ('m', RandomForestClassifier())])\n",
    "\n",
    "# fit the model\n",
    "pipeline.fit(x, y)\n",
    "\n",
    "# define new data\n",
    "row = [2, 1, 530101, 38.50, 66, 28, 3, 3, np.nan, 2, 5, 4, 4, np.nan, np.nan, np.nan, 3, 5, 45.00, 8.40, np.nan, np.nan, 2, 11300, 00000, 00000, 2]\n",
    "\n",
    "# make a prediction\n",
    "yhat = pipeline.predict([row])\n",
    "# summarize prediction\n",
    "print(f'Predicted Class: {yhat[0]}')"
   ],
   "metadata": {
    "collapsed": false,
    "pycharm": {
     "name": "#%%\n"
    }
   }
  },
  {
   "cell_type": "markdown",
   "source": [
    "### 2. KNN Imputation"
   ],
   "metadata": {
    "collapsed": false,
    "pycharm": {
     "name": "#%% md\n"
    }
   }
  },
  {
   "cell_type": "code",
   "execution_count": 3,
   "outputs": [],
   "source": [
    "import os\n",
    "import numpy as np\n",
    "import pandas as pd\n",
    "from sklearn.impute import KNNImputer"
   ],
   "metadata": {
    "collapsed": false,
    "pycharm": {
     "name": "#%%\n"
    }
   }
  },
  {
   "cell_type": "markdown",
   "source": [
    "#### KNNImputer Data Transform"
   ],
   "metadata": {
    "collapsed": false,
    "pycharm": {
     "name": "#%% md\n"
    }
   }
  },
  {
   "cell_type": "code",
   "execution_count": 5,
   "outputs": [
    {
     "name": "stdout",
     "output_type": "stream",
     "text": [
      "Missing: 1605\n",
      "Missing: 0\n"
     ]
    }
   ],
   "source": [
    "path = os.path.join('..', 'data', 'horse-colic.csv')\n",
    "\n",
    "# load datset\n",
    "df = pd.read_csv(path, header=None, na_values='?')\n",
    "\n",
    "# split into input and output elements\n",
    "data = df.values\n",
    "ix = [i for i in range(data.shape[1]) if i != 23]\n",
    "\n",
    "x, y = data[:, ix], data[:, 23]\n",
    "\n",
    "# summarize total missing\n",
    "print(f'Missing: {sum(np.isnan(x).flatten())}')\n",
    "\n",
    "# define imputer\n",
    "imputer = KNNImputer()\n",
    "\n",
    "# fit on the dataset\n",
    "imputer.fit(x)\n",
    "\n",
    "# transform the data\n",
    "x_trans = imputer.transform(x)\n",
    "\n",
    "# summarize total missing\n",
    "print(f'Missing: {sum(np.isnan(x_trans).flatten())}')"
   ],
   "metadata": {
    "collapsed": false,
    "pycharm": {
     "name": "#%%\n"
    }
   }
  },
  {
   "cell_type": "markdown",
   "source": [
    "#### KNNImputer and Model Evaluation"
   ],
   "metadata": {
    "collapsed": false,
    "pycharm": {
     "name": "#%% md\n"
    }
   }
  },
  {
   "cell_type": "code",
   "execution_count": 9,
   "outputs": [],
   "source": [
    "import os\n",
    "import numpy as np\n",
    "import pandas as pd\n",
    "from sklearn.ensemble import RandomForestClassifier\n",
    "from sklearn.impute import KNNImputer\n",
    "from sklearn.model_selection import cross_val_score\n",
    "from sklearn.model_selection import RepeatedStratifiedKFold\n",
    "from sklearn.pipeline import Pipeline"
   ],
   "metadata": {
    "collapsed": false,
    "pycharm": {
     "name": "#%%\n"
    }
   }
  },
  {
   "cell_type": "code",
   "execution_count": 7,
   "outputs": [],
   "source": [
    "path = os.path.join('..', 'data', 'horse-colic.csv')\n",
    "\n",
    "# load dataset\n",
    "df = pd.read_csv(path, header=None, na_values='?')\n",
    "\n",
    "# split into input and output elements\n",
    "data = df.values\n",
    "ix = [i for i in range(data.shape[1]) if i != 23]\n",
    "\n",
    "x, y = data[:, ix], data[:, 23]"
   ],
   "metadata": {
    "collapsed": false,
    "pycharm": {
     "name": "#%%\n"
    }
   }
  },
  {
   "cell_type": "code",
   "execution_count": 9,
   "outputs": [
    {
     "name": "stdout",
     "output_type": "stream",
     "text": [
      "Mean Accuracy: 0.860 (0.059)\n"
     ]
    }
   ],
   "source": [
    "# define the modeling pipeline\n",
    "model = RandomForestClassifier()\n",
    "imputer = KNNImputer()\n",
    "\n",
    "pipeline = Pipeline(steps=[('i', imputer), ('m', model)])\n",
    "\n",
    "# define model evaluation\n",
    "cv = RepeatedStratifiedKFold(n_splits=10, n_repeats=3, random_state=1)\n",
    "\n",
    "# evaulate model\n",
    "scores = cross_val_score(pipeline, x, y, scoring='accuracy', cv=cv, n_jobs=4)\n",
    "print(f\"Mean Accuracy: {np.mean(scores):.3f} ({np.std(scores):.3f})\")"
   ],
   "metadata": {
    "collapsed": false,
    "pycharm": {
     "name": "#%%\n"
    }
   }
  },
  {
   "cell_type": "markdown",
   "source": [
    "KNNImputer and Different Number of Neighbors"
   ],
   "metadata": {
    "collapsed": false,
    "pycharm": {
     "name": "#%% md\n"
    }
   }
  },
  {
   "cell_type": "code",
   "execution_count": 11,
   "outputs": [
    {
     "name": "stdout",
     "output_type": "stream",
     "text": [
      "Mean Accuracy: 0.861 (0.056)\n",
      "Mean Accuracy: 0.859 (0.054)\n",
      "Mean Accuracy: 0.859 (0.056)\n",
      "Mean Accuracy: 0.866 (0.051)\n",
      "Mean Accuracy: 0.861 (0.060)\n"
     ]
    },
    {
     "data": {
      "text/plain": "<Figure size 432x288 with 1 Axes>",
      "image/png": "[encoded data removed]"
     },
     "metadata": {
      "needs_background": "light"
     },
     "output_type": "display_data"
    }
   ],
   "source": [
    "import matplotlib.pyplot as plt\n",
    "\n",
    "results = []\n",
    "strategies = [str(i) for i in [1,3,5,7,9]]\n",
    "\n",
    "for s in strategies:\n",
    "    # create the modeling pipelines\n",
    "    pipeline = Pipeline(steps=[('i', KNNImputer(n_neighbors=int(s))), ('m', RandomForestClassifier())])\n",
    "\n",
    "    # evaluate the model\n",
    "    cv = RepeatedStratifiedKFold(n_splits=10, n_repeats=3, random_state=1)\n",
    "    scores = cross_val_score(pipeline, x, y, scoring='accuracy', cv=cv, n_jobs=4)\n",
    "\n",
    "    # store results\n",
    "    results.append(scores)\n",
    "    print(f\"Mean Accuracy: {np.mean(scores):.3f} ({np.std(scores):.3f})\")\n",
    "\n",
    "plt.boxplot(results, labels=strategies, showmeans=True)\n",
    "plt.show()"
   ],
   "metadata": {
    "collapsed": false,
    "pycharm": {
     "name": "#%%\n"
    }
   }
  },
  {
   "cell_type": "markdown",
   "source": [
    "### How to Use Iterative Imputation"
   ],
   "metadata": {
    "collapsed": false,
    "pycharm": {
     "name": "#%% md\n"
    }
   }
  },
  {
   "cell_type": "code",
   "execution_count": null,
   "outputs": [],
   "source": [],
   "metadata": {
    "collapsed": false,
    "pycharm": {
     "name": "#%%\n"
    }
   }
  }
 ],
 "metadata": {
  "kernelspec": {
   "display_name": "Python 3",
   "language": "python",
   "name": "python3"
  },
  "language_info": {
   "codemirror_mode": {
    "name": "ipython",
    "version": 2
   },
   "file_extension": ".py",
   "mimetype": "text/x-python",
   "name": "python",
   "nbconvert_exporter": "python",
   "pygments_lexer": "ipython2",
   "version": "2.7.6"
  }
 },
 "nbformat": 4,
 "nbformat_minor": 0
}